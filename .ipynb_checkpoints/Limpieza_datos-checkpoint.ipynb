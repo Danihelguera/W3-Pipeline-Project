{
 "cells": [
  {
   "cell_type": "markdown",
   "id": "6dffd881",
   "metadata": {},
   "source": [
    "# Cargamos las librerias necesarias"
   ]
  },
  {
   "cell_type": "code",
   "execution_count": 1,
   "id": "a5ced843",
   "metadata": {},
   "outputs": [],
   "source": [
    "import json\n",
    "import pandas as pd\n",
    "from pandas import json_normalize\n",
    "import os\n",
    "import re"
   ]
  },
  {
   "cell_type": "markdown",
   "id": "7463eae2",
   "metadata": {},
   "source": [
    "# Importamos y limpiamos los datos"
   ]
  },
  {
   "cell_type": "markdown",
   "id": "83c2e0c5",
   "metadata": {},
   "source": [
    "### Primero cargamos los datos de 10 csvs y los juntamos en un único dataframe"
   ]
  },
  {
   "cell_type": "code",
   "execution_count": 2,
   "id": "c11f5d04",
   "metadata": {},
   "outputs": [
    {
     "name": "stdout",
     "output_type": "stream",
     "text": [
      "Leemos data/accidents/2010-accidents-vehicles-bcn.csv y adjuntamos en el dataframe\n",
      "Leemos data/accidents/2011-accidents-vehicles-bcn.csv y adjuntamos en el dataframe\n",
      "Leemos data/accidents/2012-accidents-vehicles-bcn.csv y adjuntamos en el dataframe\n",
      "Leemos data/accidents/2013-accidents-vehicles-bcn.csv y adjuntamos en el dataframe\n",
      "Leemos data/accidents/2014-accidents-vehicles-bcn.csv y adjuntamos en el dataframe\n",
      "Leemos data/accidents/2015-accidents-vehicles-bcn.csv y adjuntamos en el dataframe\n",
      "Leemos data/accidents/2016-accidents-vehicles-bcn.csv y adjuntamos en el dataframe\n",
      "Leemos data/accidents/2017-accidents-vehicles-bcn.csv y adjuntamos en el dataframe\n",
      "Leemos data/accidents/2018-accidents-vehicles-bcn.csv y adjuntamos en el dataframe\n",
      "Leemos data/accidents/2019-accidents-vehicles-bcn.csv y adjuntamos en el dataframe\n",
      "Leemos data/accidents/2020-accidents-vehicles-bcn.csv y adjuntamos en el dataframe\n"
     ]
    }
   ],
   "source": [
    "from src import cleaning_functions as cf\n",
    "\n",
    "df = cf.leer_datos()"
   ]
  },
  {
   "cell_type": "markdown",
   "id": "20319ce4",
   "metadata": {},
   "source": [
    "### Segundo empezamos a limpiar y traducir los datos"
   ]
  },
  {
   "cell_type": "code",
   "execution_count": 3,
   "id": "e82a45f0",
   "metadata": {
    "scrolled": true
   },
   "outputs": [
    {
     "name": "stdout",
     "output_type": "stream",
     "text": [
      "Se han traducido los colores a castellaño\n",
      "Se han traducido los dias de la semana a castellaño\n",
      "Se han traducido los meses a castellaño\n",
      "Se han clasificado los tipos de vehículos en castellaño\n",
      "Se han clasificado los carnets\n",
      "Se han limpiado las antiguedades incoherentes\n",
      "Se han corregido y unificado los nombres de los distritos\n",
      "Se han traducido las causas del accidente a castellaño\n",
      "Se han calculado los turnos según la hora\n",
      "Se han quitado columnas que no se usarán posteriormente\n",
      "Se han quitado filas duplicadas\n",
      "Se han limpiado los Nan y se han traducido los desconocidos a castellaño \n",
      "Se quitan duplicados\n"
     ]
    }
   ],
   "source": [
    "df = df[df.Expediente.isna()       == False]\n",
    "df = df[df.Coordenada_UTM_Y.isna() == False]\n",
    "\n",
    "cf.traducir_colores(df)\n",
    "cf.traducir_dias_semana(df)\n",
    "cf.traducir_meses(df)\n",
    "cf.traducir_tipo_vehiculo(df)\n",
    "cf.limpiar_Carnets(df)\n",
    "cf.limpiar_antiguedad(df)\n",
    "cf.limpiar_distrito(df)\n",
    "cf.traducir_causa(df)\n",
    "cf.calcular_turno(df)\n",
    "\n",
    "df.drop(['Codigo_Postal', 'Tipo_dia'], axis=1, inplace=True)\n",
    "print('Se han quitado columnas que no se usarán posteriormente')\n",
    "df.drop_duplicates()\n",
    "print('Se han quitado filas duplicadas')\n",
    "\n",
    "df.Modelo.fillna('Desconocido',inplace = True)\n",
    "df.Modelo.replace({'Desconegut':'Desconocido'})\n",
    "df.Marca.fillna('Desconocido',inplace=True)\n",
    "df.Marca.replace({'Desconegut':'Desconocido'})\n",
    "df.Calle.fillna('Desconocido',inplace=True)\n",
    "print('Se han limpiado los Nan y se han traducido los desconocidos a castellaño ')\n",
    "\n",
    "df.drop_duplicates()\n",
    "print('Se quitan duplicados')"
   ]
  },
  {
   "cell_type": "markdown",
   "id": "4e68e513",
   "metadata": {},
   "source": [
    "### Visualizamos cómo ha quedado el Dataframe"
   ]
  },
  {
   "cell_type": "code",
   "execution_count": 4,
   "id": "2097953f",
   "metadata": {},
   "outputs": [
    {
     "data": {
      "text/html": [
       "<div>\n",
       "<style scoped>\n",
       "    .dataframe tbody tr th:only-of-type {\n",
       "        vertical-align: middle;\n",
       "    }\n",
       "\n",
       "    .dataframe tbody tr th {\n",
       "        vertical-align: top;\n",
       "    }\n",
       "\n",
       "    .dataframe thead th {\n",
       "        text-align: right;\n",
       "    }\n",
       "</style>\n",
       "<table border=\"1\" class=\"dataframe\">\n",
       "  <thead>\n",
       "    <tr style=\"text-align: right;\">\n",
       "      <th></th>\n",
       "      <th>Expediente</th>\n",
       "      <th>Distrito_codigo</th>\n",
       "      <th>Distrito</th>\n",
       "      <th>Barrio_codigo</th>\n",
       "      <th>Barrio</th>\n",
       "      <th>Calle_codigo</th>\n",
       "      <th>Calle</th>\n",
       "      <th>Dia_semana</th>\n",
       "      <th>Dia_semana_corto</th>\n",
       "      <th>Año</th>\n",
       "      <th>...</th>\n",
       "      <th>Color</th>\n",
       "      <th>Carnet</th>\n",
       "      <th>Antiguedad</th>\n",
       "      <th>Coordenada_UTM_Y</th>\n",
       "      <th>Coordenada_UTM_X</th>\n",
       "      <th>Longitud</th>\n",
       "      <th>Latitud</th>\n",
       "      <th>Turno</th>\n",
       "      <th>Tipo_veh_grup</th>\n",
       "      <th>Carnet_reducido</th>\n",
       "    </tr>\n",
       "  </thead>\n",
       "  <tbody>\n",
       "    <tr>\n",
       "      <th>0</th>\n",
       "      <td>2010S002961</td>\n",
       "      <td>7</td>\n",
       "      <td>Horta-Guinardó</td>\n",
       "      <td>34</td>\n",
       "      <td>Can Bar¢</td>\n",
       "      <td>170601</td>\n",
       "      <td>Jos Mill n Gonz lez</td>\n",
       "      <td>Viernes</td>\n",
       "      <td>V</td>\n",
       "      <td>2010</td>\n",
       "      <td>...</td>\n",
       "      <td>Desconocido</td>\n",
       "      <td>B</td>\n",
       "      <td>3</td>\n",
       "      <td>4585536,52</td>\n",
       "      <td>429863,89</td>\n",
       "      <td>NaN</td>\n",
       "      <td>NaN</td>\n",
       "      <td>Noche</td>\n",
       "      <td>Turismo</td>\n",
       "      <td>B</td>\n",
       "    </tr>\n",
       "    <tr>\n",
       "      <th>1</th>\n",
       "      <td>2010S003114</td>\n",
       "      <td>8</td>\n",
       "      <td>Nou Barris</td>\n",
       "      <td>53</td>\n",
       "      <td>la Trinitat Nova</td>\n",
       "      <td>4409</td>\n",
       "      <td>Aiguablava</td>\n",
       "      <td>Viernes</td>\n",
       "      <td>V</td>\n",
       "      <td>2010</td>\n",
       "      <td>...</td>\n",
       "      <td>Negro</td>\n",
       "      <td>AM</td>\n",
       "      <td>1</td>\n",
       "      <td>4589093,65</td>\n",
       "      <td>431789,16</td>\n",
       "      <td>NaN</td>\n",
       "      <td>NaN</td>\n",
       "      <td>Tarde</td>\n",
       "      <td>Ciclomotor</td>\n",
       "      <td>A</td>\n",
       "    </tr>\n",
       "    <tr>\n",
       "      <th>2</th>\n",
       "      <td>2010S001244</td>\n",
       "      <td>3</td>\n",
       "      <td>Sants-Montjuïc</td>\n",
       "      <td>11</td>\n",
       "      <td>el Poble Sec</td>\n",
       "      <td>701266</td>\n",
       "      <td>Litoral (Llobregat)</td>\n",
       "      <td>Viernes</td>\n",
       "      <td>V</td>\n",
       "      <td>2010</td>\n",
       "      <td>...</td>\n",
       "      <td>Blanco</td>\n",
       "      <td>B</td>\n",
       "      <td>9</td>\n",
       "      <td>4578885,9</td>\n",
       "      <td>429949,38</td>\n",
       "      <td>NaN</td>\n",
       "      <td>NaN</td>\n",
       "      <td>Tarde</td>\n",
       "      <td>Furgoneta</td>\n",
       "      <td>B</td>\n",
       "    </tr>\n",
       "    <tr>\n",
       "      <th>3</th>\n",
       "      <td>2010S001244</td>\n",
       "      <td>3</td>\n",
       "      <td>Sants-Montjuïc</td>\n",
       "      <td>11</td>\n",
       "      <td>el Poble Sec</td>\n",
       "      <td>701266</td>\n",
       "      <td>Litoral (Llobregat)</td>\n",
       "      <td>Viernes</td>\n",
       "      <td>V</td>\n",
       "      <td>2010</td>\n",
       "      <td>...</td>\n",
       "      <td>Desconocido</td>\n",
       "      <td>BTP</td>\n",
       "      <td>16</td>\n",
       "      <td>4578885,9</td>\n",
       "      <td>429949,38</td>\n",
       "      <td>NaN</td>\n",
       "      <td>NaN</td>\n",
       "      <td>Tarde</td>\n",
       "      <td>Turismo</td>\n",
       "      <td>B</td>\n",
       "    </tr>\n",
       "    <tr>\n",
       "      <th>4</th>\n",
       "      <td>2010S001421</td>\n",
       "      <td>2</td>\n",
       "      <td>Eixample</td>\n",
       "      <td>5</td>\n",
       "      <td>el Fort Pienc</td>\n",
       "      <td>325005</td>\n",
       "      <td>Sic¡lia</td>\n",
       "      <td>Viernes</td>\n",
       "      <td>V</td>\n",
       "      <td>2010</td>\n",
       "      <td>...</td>\n",
       "      <td>Blanco</td>\n",
       "      <td>B</td>\n",
       "      <td>5</td>\n",
       "      <td>4583562,68</td>\n",
       "      <td>431291,81</td>\n",
       "      <td>NaN</td>\n",
       "      <td>NaN</td>\n",
       "      <td>Tarde</td>\n",
       "      <td>Furgoneta</td>\n",
       "      <td>B</td>\n",
       "    </tr>\n",
       "  </tbody>\n",
       "</table>\n",
       "<p>5 rows × 28 columns</p>\n",
       "</div>"
      ],
      "text/plain": [
       "    Expediente Distrito_codigo        Distrito Barrio_codigo  \\\n",
       "0  2010S002961               7  Horta-Guinardó            34   \n",
       "1  2010S003114               8      Nou Barris            53   \n",
       "2  2010S001244               3  Sants-Montjuïc            11   \n",
       "3  2010S001244               3  Sants-Montjuïc            11   \n",
       "4  2010S001421               2        Eixample             5   \n",
       "\n",
       "             Barrio Calle_codigo                 Calle Dia_semana  \\\n",
       "0          Can Bar¢       170601  Jos Mill n Gonz lez    Viernes   \n",
       "1  la Trinitat Nova         4409            Aiguablava    Viernes   \n",
       "2      el Poble Sec       701266   Litoral (Llobregat)    Viernes   \n",
       "3      el Poble Sec       701266   Litoral (Llobregat)    Viernes   \n",
       "4     el Fort Pienc       325005               Sic¡lia    Viernes   \n",
       "\n",
       "  Dia_semana_corto   Año  ...        Color Carnet  Antiguedad  \\\n",
       "0                V  2010  ...  Desconocido      B           3   \n",
       "1                V  2010  ...        Negro     AM           1   \n",
       "2                V  2010  ...       Blanco      B           9   \n",
       "3                V  2010  ...  Desconocido    BTP          16   \n",
       "4                V  2010  ...       Blanco      B           5   \n",
       "\n",
       "   Coordenada_UTM_Y Coordenada_UTM_X Longitud Latitud  Turno Tipo_veh_grup  \\\n",
       "0        4585536,52        429863,89      NaN     NaN  Noche       Turismo   \n",
       "1        4589093,65        431789,16      NaN     NaN  Tarde    Ciclomotor   \n",
       "2         4578885,9        429949,38      NaN     NaN  Tarde     Furgoneta   \n",
       "3         4578885,9        429949,38      NaN     NaN  Tarde       Turismo   \n",
       "4        4583562,68        431291,81      NaN     NaN  Tarde     Furgoneta   \n",
       "\n",
       "  Carnet_reducido  \n",
       "0               B  \n",
       "1               A  \n",
       "2               B  \n",
       "3               B  \n",
       "4               B  \n",
       "\n",
       "[5 rows x 28 columns]"
      ]
     },
     "execution_count": 4,
     "metadata": {},
     "output_type": "execute_result"
    }
   ],
   "source": [
    "df.head()"
   ]
  },
  {
   "cell_type": "markdown",
   "id": "30fb14d2",
   "metadata": {},
   "source": [
    "# Exportamos el csv "
   ]
  },
  {
   "cell_type": "code",
   "execution_count": 5,
   "id": "2516a79b",
   "metadata": {},
   "outputs": [],
   "source": [
    "#df.to_csv('output/accidents_Bcn_limpio.csv' , index=False , encoding='latin-1')"
   ]
  },
  {
   "cell_type": "code",
   "execution_count": null,
   "id": "4e27b601",
   "metadata": {},
   "outputs": [],
   "source": []
  }
 ],
 "metadata": {
  "kernelspec": {
   "display_name": "ironhack",
   "language": "python",
   "name": "ironhack"
  },
  "language_info": {
   "codemirror_mode": {
    "name": "ipython",
    "version": 3
   },
   "file_extension": ".py",
   "mimetype": "text/x-python",
   "name": "python",
   "nbconvert_exporter": "python",
   "pygments_lexer": "ipython3",
   "version": "3.8.5"
  }
 },
 "nbformat": 4,
 "nbformat_minor": 5
}
