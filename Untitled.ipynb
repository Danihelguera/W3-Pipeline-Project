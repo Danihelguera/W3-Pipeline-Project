{
 "cells": [
  {
   "cell_type": "markdown",
   "id": "6e768154",
   "metadata": {},
   "source": [
    "# Cargo datos"
   ]
  },
  {
   "cell_type": "code",
   "execution_count": 1,
   "id": "a5ced843",
   "metadata": {},
   "outputs": [
    {
     "data": {
      "text/plain": [
       "True"
      ]
     },
     "execution_count": 1,
     "metadata": {},
     "output_type": "execute_result"
    }
   ],
   "source": [
    "import json\n",
    "import requests\n",
    "import pandas as pd\n",
    "from pandas import json_normalize\n",
    "import os\n",
    "from dotenv import load_dotenv\n",
    "import datetime\n",
    "import re\n",
    "\n",
    "load_dotenv()"
   ]
  },
  {
   "cell_type": "code",
   "execution_count": 2,
   "id": "53798c5d",
   "metadata": {},
   "outputs": [],
   "source": [
    "from src import cleaning_functions as cf\n"
   ]
  },
  {
   "cell_type": "code",
   "execution_count": 3,
   "id": "9f8cdc69",
   "metadata": {
    "scrolled": true
   },
   "outputs": [
    {
     "name": "stdout",
     "output_type": "stream",
     "text": [
      "Leemos data/accidents/2010-accidents-vehicles-bcn.csv y adjuntamos en el dataframe\n",
      "Leemos data/accidents/2011-accidents-vehicles-bcn.csv y adjuntamos en el dataframe\n",
      "Leemos data/accidents/2012-accidents-vehicles-bcn.csv y adjuntamos en el dataframe\n",
      "Leemos data/accidents/2013-accidents-vehicles-bcn.csv y adjuntamos en el dataframe\n",
      "Leemos data/accidents/2014-accidents-vehicles-bcn.csv y adjuntamos en el dataframe\n",
      "Leemos data/accidents/2015-accidents-vehicles-bcn.csv y adjuntamos en el dataframe\n",
      "Leemos data/accidents/2016-accidents-vehicles-bcn.csv y adjuntamos en el dataframe\n",
      "Leemos data/accidents/2017-accidents-vehicles-bcn.csv y adjuntamos en el dataframe\n",
      "Leemos data/accidents/2018-accidents-vehicles-bcn.csv y adjuntamos en el dataframe\n",
      "Leemos data/accidents/2019-accidents-vehicles-bcn.csv y adjuntamos en el dataframe\n",
      "Leemos data/accidents/2020-accidents-vehicles-bcn.csv y adjuntamos en el dataframe\n",
      "Se han traducido los colores a castellano\n",
      "Se han traducido los dias de la semana a castellano\n",
      "Se han traducido los meses a castellano\n",
      "Se han clasificado los tipos de vehículos en castellano\n",
      "Se han clasificado los carnets\n",
      "Se han limpiado las antiguedades incoherentes\n",
      "Se han corregido y unificado los nombres de los distritos\n",
      "Se han traducido las causas del accidente a castellano\n",
      "Se han calculado los turnos según la hora\n",
      "Se han quitado columnas que no se usarán posteriormente\n",
      "Se han limpiado los Nan y se han traducido los desconocidos a castellaño \n"
     ]
    }
   ],
   "source": [
    "df = cf.leer_datos()\n",
    "df = df[df.Expediente.isna()       == False]\n",
    "df = df[df.Coordenada_UTM_Y.isna() == False]\n",
    "\n",
    "cf.traducir_colores(df)\n",
    "cf.traducir_dias_semana(df)\n",
    "cf.traducir_meses(df)\n",
    "cf.traducir_tipo_vehiculo(df)\n",
    "cf.limpiar_Carnets(df)\n",
    "cf.limpiar_antiguedad(df)\n",
    "cf.limpiar_distrito(df)\n",
    "cf.traducir_causa(df)\n",
    "cf.calcular_turno(df)\n",
    "\n",
    "df.drop(['Codigo_Postal', 'Turno', 'Tipo_dia', 'Longitud', 'Latitud'], axis=1, inplace=True)\n",
    "print('Se han quitado columnas que no se usarán posteriormente')\n",
    "\n",
    "df.Modelo.fillna('Desconocido',inplace = True)\n",
    "df.Modelo.replace({'Desconegut':'Desconocido'})\n",
    "df.Marca.fillna('Desconocido',inplace=True)\n",
    "df.Marca.replace({'Desconegut':'Desconocido'})\n",
    "df.Calle.fillna('Desconocido',inplace=True)\n",
    "print('Se han limpiado los Nan y se han traducido los desconocidos a castellaño ')"
   ]
  },
  {
   "cell_type": "code",
   "execution_count": null,
   "id": "2f2e5389",
   "metadata": {},
   "outputs": [],
   "source": []
  },
  {
   "cell_type": "code",
   "execution_count": null,
   "id": "8f2c156a",
   "metadata": {},
   "outputs": [],
   "source": []
  },
  {
   "cell_type": "code",
   "execution_count": null,
   "id": "ec3b1a5c",
   "metadata": {},
   "outputs": [],
   "source": []
  },
  {
   "cell_type": "code",
   "execution_count": null,
   "id": "aaf40413",
   "metadata": {},
   "outputs": [],
   "source": []
  },
  {
   "cell_type": "code",
   "execution_count": null,
   "id": "7089d7d1",
   "metadata": {},
   "outputs": [],
   "source": [
    "df.to_csv('output/accidents_Bcn_limpio.csv' , index=False , encoding='latin-1')"
   ]
  }
 ],
 "metadata": {
  "kernelspec": {
   "display_name": "ironhack",
   "language": "python",
   "name": "ironhack"
  },
  "language_info": {
   "codemirror_mode": {
    "name": "ipython",
    "version": 3
   },
   "file_extension": ".py",
   "mimetype": "text/x-python",
   "name": "python",
   "nbconvert_exporter": "python",
   "pygments_lexer": "ipython3",
   "version": "3.8.5"
  }
 },
 "nbformat": 4,
 "nbformat_minor": 5
}
